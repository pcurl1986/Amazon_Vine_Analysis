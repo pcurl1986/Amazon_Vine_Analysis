{
  "nbformat": 4,
  "nbformat_minor": 0,
  "metadata": {
    "colab": {
      "name": "Amazon_Vine_Analysis.ipynb",
      "provenance": [],
      "collapsed_sections": []
    },
    "kernelspec": {
      "name": "python3",
      "display_name": "Python 3"
    },
    "language_info": {
      "name": "python"
    }
  },
  "cells": [
    {
      "cell_type": "code",
      "execution_count": 1,
      "metadata": {
        "colab": {
          "base_uri": "https://localhost:8080/"
        },
        "id": "cZkU4YwIByJ6",
        "outputId": "63ca1e8e-3702-4846-f0d2-4905691046d2"
      },
      "outputs": [
        {
          "output_type": "stream",
          "name": "stdout",
          "text": [
            "\r0% [Working]\r            \rGet:1 https://cloud.r-project.org/bin/linux/ubuntu bionic-cran40/ InRelease [3,626 B]\n",
            "\r0% [Waiting for headers] [Connecting to security.ubuntu.com (91.189.91.38)] [1 \r0% [Waiting for headers] [Connecting to security.ubuntu.com (91.189.91.38)] [Co\r0% [1 InRelease gpgv 3,626 B] [Waiting for headers] [Waiting for headers] [Conn\r                                                                               \rGet:2 http://security.ubuntu.com/ubuntu bionic-security InRelease [88.7 kB]\n",
            "Hit:3 http://archive.ubuntu.com/ubuntu bionic InRelease\n",
            "Get:4 http://ppa.launchpad.net/c2d4u.team/c2d4u4.0+/ubuntu bionic InRelease [15.9 kB]\n",
            "Get:5 http://archive.ubuntu.com/ubuntu bionic-updates InRelease [88.7 kB]\n",
            "Hit:6 http://ppa.launchpad.net/cran/libgit2/ubuntu bionic InRelease\n",
            "Get:7 http://archive.ubuntu.com/ubuntu bionic-backports InRelease [74.6 kB]\n",
            "Hit:8 http://ppa.launchpad.net/deadsnakes/ppa/ubuntu bionic InRelease\n",
            "Hit:9 http://ppa.launchpad.net/graphics-drivers/ppa/ubuntu bionic InRelease\n",
            "Ign:10 https://developer.download.nvidia.com/compute/machine-learning/repos/ubuntu1804/x86_64  InRelease\n",
            "Get:11 http://security.ubuntu.com/ubuntu bionic-security/main amd64 Packages [2,905 kB]\n",
            "Get:12 https://developer.download.nvidia.com/compute/cuda/repos/ubuntu1804/x86_64  InRelease [1,581 B]\n",
            "Hit:13 https://developer.download.nvidia.com/compute/machine-learning/repos/ubuntu1804/x86_64  Release\n",
            "Get:14 http://ppa.launchpad.net/c2d4u.team/c2d4u4.0+/ubuntu bionic/main Sources [2,077 kB]\n",
            "Get:15 http://security.ubuntu.com/ubuntu bionic-security/universe amd64 Packages [1,528 kB]\n",
            "Get:16 http://ppa.launchpad.net/c2d4u.team/c2d4u4.0+/ubuntu bionic/main amd64 Packages [1,064 kB]\n",
            "Get:17 http://archive.ubuntu.com/ubuntu bionic-updates/universe amd64 Packages [2,306 kB]\n",
            "Get:18 http://archive.ubuntu.com/ubuntu bionic-updates/main amd64 Packages [3,336 kB]\n",
            "Get:19 https://developer.download.nvidia.com/compute/cuda/repos/ubuntu1804/x86_64  Packages [902 kB]\n",
            "Fetched 14.4 MB in 7s (1,946 kB/s)\n",
            "^C\n",
            "^C\n"
          ]
        }
      ],
      "source": [
        "import os\n",
        "# Find the latest version of spark 3.0 from http://www.apache.org/dist/spark/ and enter as the spark version\n",
        "# For example:\n",
        "# spark_version = 'spark-3.0.3'\n",
        "spark_version = 'spark-3.3.0'\n",
        "os.environ['SPARK_VERSION']=spark_version\n",
        "\n",
        "# Install Spark and Java\n",
        "!apt-get update\n",
        "!apt-get install openjdk-11-jdk-headless -qq > /dev/null\n",
        "!wget -q http://www.apache.org/dist/spark/$SPARK_VERSION/$SPARK_VERSION-bin-hadoop2.7.tgz\n",
        "!tar xf $SPARK_VERSION-bin-hadoop2.7.tgz\n",
        "!pip install -q findspark\n",
        "\n",
        "# Set Environment Variables\n",
        "import os\n",
        "os.environ[\"JAVA_HOME\"] = \"/usr/lib/jvm/java-11-openjdk-amd64\"\n",
        "os.environ[\"SPARK_HOME\"] = f\"/content/{spark_version}-bin-hadoop2.7\"\n",
        "\n",
        "# Start a SparkSession\n",
        "import findspark\n",
        "findspark.init()"
      ]
    },
    {
      "cell_type": "code",
      "source": [
        "# Download the Postgres driver that will allow Spark to interact with Postgres.\n",
        "!wget https://jdbc.postgresql.org/download/postgresql-42.2.16.jar"
      ],
      "metadata": {
        "colab": {
          "base_uri": "https://localhost:8080/"
        },
        "id": "i83d6-0BCaau",
        "outputId": "00a027f9-16c9-4ff9-aff7-e4b721ffb697"
      },
      "execution_count": 2,
      "outputs": [
        {
          "output_type": "stream",
          "name": "stdout",
          "text": [
            "--2022-08-08 01:22:53--  https://jdbc.postgresql.org/download/postgresql-42.2.16.jar\n",
            "Resolving jdbc.postgresql.org (jdbc.postgresql.org)... 72.32.157.228, 2001:4800:3e1:1::228\n",
            "Connecting to jdbc.postgresql.org (jdbc.postgresql.org)|72.32.157.228|:443... connected.\n",
            "HTTP request sent, awaiting response... 200 OK\n",
            "Length: 1002883 (979K) [application/java-archive]\n",
            "Saving to: ‘postgresql-42.2.16.jar’\n",
            "\n",
            "postgresql-42.2.16. 100%[===================>] 979.38K  4.48MB/s    in 0.2s    \n",
            "\n",
            "2022-08-08 01:22:54 (4.48 MB/s) - ‘postgresql-42.2.16.jar’ saved [1002883/1002883]\n",
            "\n"
          ]
        }
      ]
    },
    {
      "cell_type": "code",
      "source": [
        "from pyspark.sql import SparkSession\n",
        "spark = SparkSession.builder.appName(\"M16-Amazon-Challenge\").config(\"spark.driver.extraClassPath\",\"/content/postgresql-42.2.16.jar\").getOrCreate()"
      ],
      "metadata": {
        "id": "0st4hrurCgV0"
      },
      "execution_count": 3,
      "outputs": []
    },
    {
      "cell_type": "code",
      "source": [
        "# READ IN THE REVIEWS DATASET AS A DATAFRANE\n",
        "from pyspark import SparkFiles\n",
        "url = \"https://s3.amazonaws.com/amazon-reviews-pds/tsv/amazon_reviews_us_Jewelry_v1_00.tsv.gz\"\n",
        "spark.sparkContext.addFile(url)\n",
        "df = spark.read.option(\"encoding\", \"UTF-8\").csv(SparkFiles.get(\"\"), sep=\"\\t\", header=True, inferSchema=True)\n",
        "df.show()"
      ],
      "metadata": {
        "colab": {
          "base_uri": "https://localhost:8080/"
        },
        "id": "GY2SmBLaCgrl",
        "outputId": "b5ec1185-4837-45ea-8fc5-62f59a951714"
      },
      "execution_count": 4,
      "outputs": [
        {
          "output_type": "stream",
          "name": "stdout",
          "text": [
            "+-----------+-----------+--------------+----------+--------------+--------------------+----------------+-----------+-------------+-----------+----+-----------------+--------------------+--------------------+-----------+\n",
            "|marketplace|customer_id|     review_id|product_id|product_parent|       product_title|product_category|star_rating|helpful_votes|total_votes|vine|verified_purchase|     review_headline|         review_body|review_date|\n",
            "+-----------+-----------+--------------+----------+--------------+--------------------+----------------+-----------+-------------+-----------+----+-----------------+--------------------+--------------------+-----------+\n",
            "|         US|   50423057|R135Q3VZ4DQN5N|B00JWXFDMG|     657335467|Everbling Purple ...|         Jewelry|          5|            0|          0|   N|                Y|           Beauties!|so beautiful even...| 2015-08-31|\n",
            "|         US|   11262325|R2N0QQ6R4T7YRY|B00W5T1H9W|      26030170|925 Sterling Silv...|         Jewelry|          5|            0|          0|   N|                N|      Great product.|Great product.. I...| 2015-08-31|\n",
            "|         US|   27541121|R3N5JE5Y4T6W5M|B00M2L6KFY|     697845240|Sterling Silver C...|         Jewelry|          5|            0|          0|   N|                Y|Exactly as pictur...|Exactly as pictur...| 2015-08-31|\n",
            "|         US|    5350721|R2I150CX5IVY9Q|B0006SW2WU|     569859289|Surgical Stainles...|         Jewelry|          5|            0|          0|   N|                Y|          Five Stars|Love it. Fits gre...| 2015-08-31|\n",
            "|         US|   24484424|R1RM9ICOOA9MQ3|B009YPDW70|     332947422|Sterling Silver F...|         Jewelry|          5|            0|          0|   N|                Y|... a Mother's Da...|Got this as a Mot...| 2015-08-31|\n",
            "|         US|     457767|R2J2KMDL10UMSH|B00QGA8XZM|     424804582|CHOOSE YOUR COLOR...|         Jewelry|          5|            0|          0|   N|                Y|          Five Stars|I Love It Make Me...| 2015-08-31|\n",
            "|         US|   31009358|R3R9ZUFA4TB4FQ|B00L0N0E8E|     589441783|Metal Factory 925...|         Jewelry|          5|            0|          0|   N|                Y|          Five Stars|True to size, unique| 2015-08-31|\n",
            "|         US|    7034628|R3UQ8VAQN7R6WL|B00DMWQKWA|     517428445|niceEshop(TM)Clas...|         Jewelry|          5|            0|          0|   N|                Y|          Five Stars|This necklace is ...| 2015-08-31|\n",
            "|         US|   34608636|R1FXZ69C01JNQM|B00THLHAGA|     320313750|Genuine Natural B...|         Jewelry|          5|            0|          0|   N|                Y|          Five Stars|        just perfect| 2015-08-31|\n",
            "|         US|   44972687| RY36LB4OW0FFS|B00UXSEOHY|     589365488|MBOX Expandable A...|         Jewelry|          5|            0|          0|   N|                Y|          Five Stars|           Love it !| 2015-08-31|\n",
            "|         US|   16684508| R6PKS54PC6ZY2|B00XGRYGVS|     217045013|Set of 3 Nose Rin...|         Jewelry|          1|            4|          4|   N|                Y|I had high hopes ...|They didn't even ...| 2015-08-31|\n",
            "|         US|   23493178|R1LYSAH0IECVWB|B00AJ2VU8A|     972853757|3-row White A Gra...|         Jewelry|          5|            0|          0|   N|                Y|This is a real ni...|This is a real ni...| 2015-08-31|\n",
            "|         US|     108294|R1UN0IZI3XQ3E2|B00LE5Y100|     979375701|KONOV Mens Stainl...|         Jewelry|          5|            2|          3|   N|                Y|             AMAZING|This is a very co...| 2015-08-31|\n",
            "|         US|   25810742| RIKDXD8QGL99S|B013E0AOH6|     619592796|TEMEGO Jewelry Me...|         Jewelry|          5|            1|          1|   N|                Y|          Five Stars|Great quality for...| 2015-08-31|\n",
            "|         US|   12037665| RUZCQTXZVGUFH|B00XAWUP96|     783863439|Royal Blue/White ...|         Jewelry|          4|            1|          1|   N|                Y|A Little Smaller ...|I like the bracel...| 2015-08-31|\n",
            "|         US|   51793466|R35CD4IHO3RP9H|B00WD82F1O|     655270378|10-11mm Baroque F...|         Jewelry|          5|            1|          1|   N|                Y|Pretty and Versatile|This is pretty an...| 2015-08-31|\n",
            "|         US|     127508|R13YD66XC9221U|B00JP4XCSO|     592155747|Sankuwen® Fashion...|         Jewelry|          1|            0|          0|   N|                N|Don't get this li...|Don't get this li...| 2015-08-31|\n",
            "|         US|   38430946| RHWG4JRVDSEYY|B00PZSM384|     622179716|zjskin6688 store ...|         Jewelry|          3|            1|          1|   N|                Y|         Three Stars|Not what I expect...| 2015-08-31|\n",
            "|         US|   33684654|R3SPIKMJ5IWHX8|B00VLMW18K|      36759824|Scheppend Polymer...|         Jewelry|          4|            0|          0|   N|                Y|          Four Stars|Bought these for ...| 2015-08-31|\n",
            "|         US|    5068631| RS19ACU7KWWNE|B00U5LDBB4|     575109200|Horizontal Sidewa...|         Jewelry|          5|            1|          1|   N|                Y|          Five Stars|Pretty, and very ...| 2015-08-31|\n",
            "+-----------+-----------+--------------+----------+--------------+--------------------+----------------+-----------+-------------+-----------+----+-----------------+--------------------+--------------------+-----------+\n",
            "only showing top 20 rows\n",
            "\n"
          ]
        }
      ]
    },
    {
      "cell_type": "code",
      "source": [
        "# MODULE 16 CHALLENGE: DELIVERABLE II\n",
        "# RE-CREATE THE vine_table DATAFRAME\n",
        "vine_table = df.select([\"review_id\", \"helpful_votes\", \"star_rating\", \"total_votes\", \"vine\", \"verified_purchase\"])\n",
        "vine_table.show()"
      ],
      "metadata": {
        "colab": {
          "base_uri": "https://localhost:8080/"
        },
        "id": "_dADj6mFChKj",
        "outputId": "b09f3843-9f09-4b37-b489-9572dde580b9"
      },
      "execution_count": 5,
      "outputs": [
        {
          "output_type": "stream",
          "name": "stdout",
          "text": [
            "+--------------+-------------+-----------+-----------+----+-----------------+\n",
            "|     review_id|helpful_votes|star_rating|total_votes|vine|verified_purchase|\n",
            "+--------------+-------------+-----------+-----------+----+-----------------+\n",
            "|R135Q3VZ4DQN5N|            0|          5|          0|   N|                Y|\n",
            "|R2N0QQ6R4T7YRY|            0|          5|          0|   N|                N|\n",
            "|R3N5JE5Y4T6W5M|            0|          5|          0|   N|                Y|\n",
            "|R2I150CX5IVY9Q|            0|          5|          0|   N|                Y|\n",
            "|R1RM9ICOOA9MQ3|            0|          5|          0|   N|                Y|\n",
            "|R2J2KMDL10UMSH|            0|          5|          0|   N|                Y|\n",
            "|R3R9ZUFA4TB4FQ|            0|          5|          0|   N|                Y|\n",
            "|R3UQ8VAQN7R6WL|            0|          5|          0|   N|                Y|\n",
            "|R1FXZ69C01JNQM|            0|          5|          0|   N|                Y|\n",
            "| RY36LB4OW0FFS|            0|          5|          0|   N|                Y|\n",
            "| R6PKS54PC6ZY2|            4|          1|          4|   N|                Y|\n",
            "|R1LYSAH0IECVWB|            0|          5|          0|   N|                Y|\n",
            "|R1UN0IZI3XQ3E2|            2|          5|          3|   N|                Y|\n",
            "| RIKDXD8QGL99S|            1|          5|          1|   N|                Y|\n",
            "| RUZCQTXZVGUFH|            1|          4|          1|   N|                Y|\n",
            "|R35CD4IHO3RP9H|            1|          5|          1|   N|                Y|\n",
            "|R13YD66XC9221U|            0|          1|          0|   N|                N|\n",
            "| RHWG4JRVDSEYY|            1|          3|          1|   N|                Y|\n",
            "|R3SPIKMJ5IWHX8|            0|          4|          0|   N|                Y|\n",
            "| RS19ACU7KWWNE|            1|          5|          1|   N|                Y|\n",
            "+--------------+-------------+-----------+-----------+----+-----------------+\n",
            "only showing top 20 rows\n",
            "\n"
          ]
        }
      ]
    },
    {
      "cell_type": "code",
      "source": [
        "# FILTER THE NEW DATAFRAME\n",
        "vine_table_filtered = vine_table.filter(\"total_votes >= 20\")\n",
        "vine_table_filtered.show()"
      ],
      "metadata": {
        "colab": {
          "base_uri": "https://localhost:8080/"
        },
        "id": "KN4_N_KiChPo",
        "outputId": "557bff29-d583-4990-a4f5-9c88961a8080"
      },
      "execution_count": 6,
      "outputs": [
        {
          "output_type": "stream",
          "name": "stdout",
          "text": [
            "+--------------+-------------+-----------+-----------+----+-----------------+\n",
            "|     review_id|helpful_votes|star_rating|total_votes|vine|verified_purchase|\n",
            "+--------------+-------------+-----------+-----------+----+-----------------+\n",
            "|R16YC6SMGKA8SR|           23|          5|         23|   N|                Y|\n",
            "| R5O4WE9UM60B0|           29|          1|         29|   N|                Y|\n",
            "|R2EKRVCRC7U0IY|           22|          1|         24|   N|                Y|\n",
            "|R2OKV47GETH0L7|           24|          5|         24|   N|                Y|\n",
            "| R36LII9IITE17|           22|          1|         24|   N|                Y|\n",
            "|R35VKNE16PFY0H|           22|          5|         24|   N|                N|\n",
            "|R3TG008LHHZZIN|          123|          5|        125|   N|                Y|\n",
            "|R2FYQBKCC1XG4M|           20|          5|         20|   N|                Y|\n",
            "| R63PV336NI5X7|           27|          1|         28|   N|                Y|\n",
            "|R1R42WPHB5ZSWI|           51|          5|         52|   N|                Y|\n",
            "| RXSS0QZJE1TEO|           35|          1|         35|   N|                Y|\n",
            "| RGS9C5XKWVYP9|           24|          1|         24|   N|                Y|\n",
            "|R3R5BWMKH1EUIQ|           26|          5|         27|   N|                N|\n",
            "|R2KBDT7RGO1G86|           33|          3|         39|   N|                Y|\n",
            "|R2WA09RFYT69GB|           21|          5|         22|   N|                Y|\n",
            "| RYNTUAMCHU3W4|           22|          5|         22|   N|                Y|\n",
            "|R3U5NCDM6NLHLC|           29|          5|         30|   N|                Y|\n",
            "| R8708W8U0Z89A|           37|          2|         38|   N|                Y|\n",
            "| RFT7R66D3SA54|           23|          5|         24|   N|                Y|\n",
            "|R1OI5TTOS49U8R|           33|          5|         34|   N|                Y|\n",
            "+--------------+-------------+-----------+-----------+----+-----------------+\n",
            "only showing top 20 rows\n",
            "\n"
          ]
        }
      ]
    },
    {
      "cell_type": "code",
      "source": [
        "# CREATE A NEW FILTERED DATAFRAME TO RETRIEVE helpful_votes WHERE RATIO IS EQUAL TO OR GREATER THAN 50%\n",
        "helpful_votes_df = vine_table_filtered.filter((vine_table_filtered[\"helpful_votes\"] / vine_table_filtered[\"total_votes\"]) >= .5)\n",
        "helpful_votes_df.show()"
      ],
      "metadata": {
        "colab": {
          "base_uri": "https://localhost:8080/"
        },
        "id": "JSm1CEJ5ChTz",
        "outputId": "ce3529bb-202a-4c4d-a796-8f476a24a9f6"
      },
      "execution_count": 7,
      "outputs": [
        {
          "output_type": "stream",
          "name": "stdout",
          "text": [
            "+--------------+-------------+-----------+-----------+----+-----------------+\n",
            "|     review_id|helpful_votes|star_rating|total_votes|vine|verified_purchase|\n",
            "+--------------+-------------+-----------+-----------+----+-----------------+\n",
            "|R16YC6SMGKA8SR|           23|          5|         23|   N|                Y|\n",
            "| R5O4WE9UM60B0|           29|          1|         29|   N|                Y|\n",
            "|R2EKRVCRC7U0IY|           22|          1|         24|   N|                Y|\n",
            "|R2OKV47GETH0L7|           24|          5|         24|   N|                Y|\n",
            "| R36LII9IITE17|           22|          1|         24|   N|                Y|\n",
            "|R35VKNE16PFY0H|           22|          5|         24|   N|                N|\n",
            "|R3TG008LHHZZIN|          123|          5|        125|   N|                Y|\n",
            "|R2FYQBKCC1XG4M|           20|          5|         20|   N|                Y|\n",
            "| R63PV336NI5X7|           27|          1|         28|   N|                Y|\n",
            "|R1R42WPHB5ZSWI|           51|          5|         52|   N|                Y|\n",
            "| RXSS0QZJE1TEO|           35|          1|         35|   N|                Y|\n",
            "| RGS9C5XKWVYP9|           24|          1|         24|   N|                Y|\n",
            "|R3R5BWMKH1EUIQ|           26|          5|         27|   N|                N|\n",
            "|R2KBDT7RGO1G86|           33|          3|         39|   N|                Y|\n",
            "|R2WA09RFYT69GB|           21|          5|         22|   N|                Y|\n",
            "| RYNTUAMCHU3W4|           22|          5|         22|   N|                Y|\n",
            "|R3U5NCDM6NLHLC|           29|          5|         30|   N|                Y|\n",
            "| R8708W8U0Z89A|           37|          2|         38|   N|                Y|\n",
            "| RFT7R66D3SA54|           23|          5|         24|   N|                Y|\n",
            "|R1OI5TTOS49U8R|           33|          5|         34|   N|                Y|\n",
            "+--------------+-------------+-----------+-----------+----+-----------------+\n",
            "only showing top 20 rows\n",
            "\n"
          ]
        }
      ]
    },
    {
      "cell_type": "code",
      "source": [
        "# FILTER AND CREATE A DATAFRAME WHERE THERE IS A VINE REVIEW\n",
        "vine_reviews_df = helpful_votes_df.filter(helpful_votes_df[\"vine\"] == \"Y\")\n",
        "vine_reviews_df.show()"
      ],
      "metadata": {
        "colab": {
          "base_uri": "https://localhost:8080/"
        },
        "id": "SNb_UbJvCwJK",
        "outputId": "1f0d35f9-fa8e-408a-bc6a-e6dc7f783446"
      },
      "execution_count": 8,
      "outputs": [
        {
          "output_type": "stream",
          "name": "stdout",
          "text": [
            "+--------------+-------------+-----------+-----------+----+-----------------+\n",
            "|     review_id|helpful_votes|star_rating|total_votes|vine|verified_purchase|\n",
            "+--------------+-------------+-----------+-----------+----+-----------------+\n",
            "|R15PXA9XU9ZKSU|           29|          4|         29|   Y|                N|\n",
            "|R2LJ4QYQ4PYDEH|           24|          5|         26|   Y|                N|\n",
            "|R2PJWWQZ37WCIC|           95|          5|         96|   Y|                N|\n",
            "|R33G2VDKRN2USY|           21|          5|         21|   Y|                N|\n",
            "|R13R4X37T2U50A|           52|          4|         57|   Y|                N|\n",
            "|R1X1J2NAQ39DF6|           29|          4|         34|   Y|                N|\n",
            "|R2UV5XHFNMPXOX|           60|          5|         61|   Y|                N|\n",
            "|R31V08BCC9X3MF|           18|          5|         22|   Y|                N|\n",
            "|R2G00QWTYW9N2G|           86|          5|         91|   Y|                N|\n",
            "| RL8H3NKKP989J|           30|          5|         34|   Y|                N|\n",
            "| RZ65QBOJ8ZNRN|           19|          4|         22|   Y|                N|\n",
            "| RDZBWH5MFEQY1|           18|          5|         22|   Y|                N|\n",
            "|R24SU7KP57HE8L|           25|          4|         26|   Y|                N|\n",
            "| RV3V9VIC29R8S|           66|          2|         68|   Y|                N|\n",
            "|R31AR3XSFSHY1B|           33|          4|         35|   Y|                N|\n",
            "|R3VWAKQ4JXGE55|           33|          5|         34|   Y|                N|\n",
            "| RNZ2BP0EHN7IK|           20|          5|         20|   Y|                N|\n",
            "| RXKITVQ3MN3PS|           22|          4|         23|   Y|                N|\n",
            "|R3TZE1OYDVZPRD|           23|          5|         24|   Y|                N|\n",
            "|R3FO353G2ET17M|           23|          4|         24|   Y|                N|\n",
            "+--------------+-------------+-----------+-----------+----+-----------------+\n",
            "only showing top 20 rows\n",
            "\n"
          ]
        }
      ]
    },
    {
      "cell_type": "code",
      "source": [
        "# FILTER AND CREATE A DATAFRAME WHERE THERE IS NOT A VINE REVIEW\n",
        "non_vine_reviews_df = helpful_votes_df.filter(helpful_votes_df[\"vine\"] == \"N\")\n",
        "non_vine_reviews_df.show()"
      ],
      "metadata": {
        "colab": {
          "base_uri": "https://localhost:8080/"
        },
        "id": "zd4TgkeZC11z",
        "outputId": "eab0cf09-fb82-4992-99ee-154603afc071"
      },
      "execution_count": 9,
      "outputs": [
        {
          "output_type": "stream",
          "name": "stdout",
          "text": [
            "+--------------+-------------+-----------+-----------+----+-----------------+\n",
            "|     review_id|helpful_votes|star_rating|total_votes|vine|verified_purchase|\n",
            "+--------------+-------------+-----------+-----------+----+-----------------+\n",
            "|R16YC6SMGKA8SR|           23|          5|         23|   N|                Y|\n",
            "| R5O4WE9UM60B0|           29|          1|         29|   N|                Y|\n",
            "|R2EKRVCRC7U0IY|           22|          1|         24|   N|                Y|\n",
            "|R2OKV47GETH0L7|           24|          5|         24|   N|                Y|\n",
            "| R36LII9IITE17|           22|          1|         24|   N|                Y|\n",
            "|R35VKNE16PFY0H|           22|          5|         24|   N|                N|\n",
            "|R3TG008LHHZZIN|          123|          5|        125|   N|                Y|\n",
            "|R2FYQBKCC1XG4M|           20|          5|         20|   N|                Y|\n",
            "| R63PV336NI5X7|           27|          1|         28|   N|                Y|\n",
            "|R1R42WPHB5ZSWI|           51|          5|         52|   N|                Y|\n",
            "| RXSS0QZJE1TEO|           35|          1|         35|   N|                Y|\n",
            "| RGS9C5XKWVYP9|           24|          1|         24|   N|                Y|\n",
            "|R3R5BWMKH1EUIQ|           26|          5|         27|   N|                N|\n",
            "|R2KBDT7RGO1G86|           33|          3|         39|   N|                Y|\n",
            "|R2WA09RFYT69GB|           21|          5|         22|   N|                Y|\n",
            "| RYNTUAMCHU3W4|           22|          5|         22|   N|                Y|\n",
            "|R3U5NCDM6NLHLC|           29|          5|         30|   N|                Y|\n",
            "| R8708W8U0Z89A|           37|          2|         38|   N|                Y|\n",
            "| RFT7R66D3SA54|           23|          5|         24|   N|                Y|\n",
            "|R1OI5TTOS49U8R|           33|          5|         34|   N|                Y|\n",
            "+--------------+-------------+-----------+-----------+----+-----------------+\n",
            "only showing top 20 rows\n",
            "\n"
          ]
        }
      ]
    },
    {
      "cell_type": "code",
      "source": [
        "# DETERMINE TOTAL NUMBER OF REVIEWS FROM VINE MEMBERS\n",
        "total_member_reviews = vine_reviews_df.count()\n",
        "total_member_reviews"
      ],
      "metadata": {
        "colab": {
          "base_uri": "https://localhost:8080/"
        },
        "id": "cDAtEX1jC1_v",
        "outputId": "76016d47-e7d8-4bd4-8888-acfec126ae4d"
      },
      "execution_count": 10,
      "outputs": [
        {
          "output_type": "execute_result",
          "data": {
            "text/plain": [
              "21"
            ]
          },
          "metadata": {},
          "execution_count": 10
        }
      ]
    },
    {
      "cell_type": "code",
      "source": [
        "# DETERMINE TOTAL NUMBER OF 5-STAR REVIEWS FROM VINE MEMBERS\n",
        "total_member_5Star_reviews = vine_reviews_df.filter(vine_reviews_df.star_rating == 5).count()\n",
        "total_member_5Star_reviews"
      ],
      "metadata": {
        "colab": {
          "base_uri": "https://localhost:8080/"
        },
        "id": "iS2N7TQGC6lu",
        "outputId": "dada6350-0217-45ac-8310-2414c51aa726"
      },
      "execution_count": 11,
      "outputs": [
        {
          "output_type": "execute_result",
          "data": {
            "text/plain": [
              "11"
            ]
          },
          "metadata": {},
          "execution_count": 11
        }
      ]
    },
    {
      "cell_type": "code",
      "source": [
        "# DETERMINE PERCENTAGE OF 5-STAR REVIEWS FROM VINE MEMBERS\n",
        "vine_5Star_percentage = (total_member_5Star_reviews / total_member_reviews) * 100\n",
        "vine_5Star_percentage"
      ],
      "metadata": {
        "colab": {
          "base_uri": "https://localhost:8080/"
        },
        "id": "1TfT-QyxC6o7",
        "outputId": "f1c5864e-7d80-4afb-d166-4c984c6fd5ee"
      },
      "execution_count": 12,
      "outputs": [
        {
          "output_type": "execute_result",
          "data": {
            "text/plain": [
              "52.38095238095239"
            ]
          },
          "metadata": {},
          "execution_count": 12
        }
      ]
    },
    {
      "cell_type": "code",
      "source": [
        "# DETERMINE TOTAL NUMBER OF REVIEWS FROM NON-VINE MEMBERS\n",
        "total_NonMember_reviews = non_vine_reviews_df.count()\n",
        "total_NonMember_reviews"
      ],
      "metadata": {
        "colab": {
          "base_uri": "https://localhost:8080/"
        },
        "id": "9TNg2bh0C6rc",
        "outputId": "0116ea1f-4b33-4362-f552-0adefdca53d0"
      },
      "execution_count": 13,
      "outputs": [
        {
          "output_type": "execute_result",
          "data": {
            "text/plain": [
              "7689"
            ]
          },
          "metadata": {},
          "execution_count": 13
        }
      ]
    },
    {
      "cell_type": "code",
      "source": [
        "# DETERMINE TOTAL NUMBER OF 5-STAR REVIEWS FROM NON-VINE MEMBERS\n",
        "total_NonMember_5Star_reviews = non_vine_reviews_df.filter(non_vine_reviews_df.star_rating == 5).count()\n",
        "total_NonMember_5Star_reviews"
      ],
      "metadata": {
        "colab": {
          "base_uri": "https://localhost:8080/"
        },
        "id": "mLiHX7ItDB7E",
        "outputId": "59ad7349-90ac-4c33-ea4b-65356d146cb0"
      },
      "execution_count": 14,
      "outputs": [
        {
          "output_type": "execute_result",
          "data": {
            "text/plain": [
              "4444"
            ]
          },
          "metadata": {},
          "execution_count": 14
        }
      ]
    },
    {
      "cell_type": "code",
      "source": [
        "# DETERMINE PERCENTAGE OF 5-STAR REVIEWS FROM NON-VINE MEMBERS\n",
        "vine_5Star_NonMember_percentage = (total_NonMember_5Star_reviews / total_NonMember_reviews) * 100\n",
        "vine_5Star_NonMember_percentage"
      ],
      "metadata": {
        "colab": {
          "base_uri": "https://localhost:8080/"
        },
        "id": "cTdmMgKdDB-M",
        "outputId": "053340a5-6a53-4e4f-a3d4-8793fbb0846b"
      },
      "execution_count": 15,
      "outputs": [
        {
          "output_type": "execute_result",
          "data": {
            "text/plain": [
              "57.79685264663805"
            ]
          },
          "metadata": {},
          "execution_count": 15
        }
      ]
    },
    {
      "cell_type": "code",
      "source": [
        "# RETRIEVE AND CREATE A DATAFRAME OF VINE PROGRAM ENTRIES WITHOUT A REVIEW\n",
        "NonVine_reviews_with_purchase = helpful_votes_df.filter((helpful_votes_df[\"vine\"] == \"N\") & (helpful_votes_df[\"verified_purchase\"] == \"Y\"))\n",
        "NonVine_reviews_with_purchase.show()"
      ],
      "metadata": {
        "colab": {
          "base_uri": "https://localhost:8080/"
        },
        "id": "78bxkHVFDCAs",
        "outputId": "82bdf09a-d313-46d4-c7f6-975732aadf18"
      },
      "execution_count": 16,
      "outputs": [
        {
          "output_type": "stream",
          "name": "stdout",
          "text": [
            "+--------------+-------------+-----------+-----------+----+-----------------+\n",
            "|     review_id|helpful_votes|star_rating|total_votes|vine|verified_purchase|\n",
            "+--------------+-------------+-----------+-----------+----+-----------------+\n",
            "|R16YC6SMGKA8SR|           23|          5|         23|   N|                Y|\n",
            "| R5O4WE9UM60B0|           29|          1|         29|   N|                Y|\n",
            "|R2EKRVCRC7U0IY|           22|          1|         24|   N|                Y|\n",
            "|R2OKV47GETH0L7|           24|          5|         24|   N|                Y|\n",
            "| R36LII9IITE17|           22|          1|         24|   N|                Y|\n",
            "|R3TG008LHHZZIN|          123|          5|        125|   N|                Y|\n",
            "|R2FYQBKCC1XG4M|           20|          5|         20|   N|                Y|\n",
            "| R63PV336NI5X7|           27|          1|         28|   N|                Y|\n",
            "|R1R42WPHB5ZSWI|           51|          5|         52|   N|                Y|\n",
            "| RXSS0QZJE1TEO|           35|          1|         35|   N|                Y|\n",
            "| RGS9C5XKWVYP9|           24|          1|         24|   N|                Y|\n",
            "|R2KBDT7RGO1G86|           33|          3|         39|   N|                Y|\n",
            "|R2WA09RFYT69GB|           21|          5|         22|   N|                Y|\n",
            "| RYNTUAMCHU3W4|           22|          5|         22|   N|                Y|\n",
            "|R3U5NCDM6NLHLC|           29|          5|         30|   N|                Y|\n",
            "| R8708W8U0Z89A|           37|          2|         38|   N|                Y|\n",
            "| RFT7R66D3SA54|           23|          5|         24|   N|                Y|\n",
            "|R1OI5TTOS49U8R|           33|          5|         34|   N|                Y|\n",
            "|R360QAUTFX3XGS|           43|          5|         47|   N|                Y|\n",
            "| R6HKG5VVEAFPQ|           22|          5|         24|   N|                Y|\n",
            "+--------------+-------------+-----------+-----------+----+-----------------+\n",
            "only showing top 20 rows\n",
            "\n"
          ]
        }
      ]
    },
    {
      "cell_type": "code",
      "source": [
        "# DETERMINE TOTAL NUMBER OF NON-VINE MEMBERS REVIEWS THAT MADE A PURCHASE\n",
        "NonVine_withPurchase_total_reviews = NonVine_reviews_with_purchase.count()\n",
        "NonVine_withPurchase_total_reviews"
      ],
      "metadata": {
        "colab": {
          "base_uri": "https://localhost:8080/"
        },
        "id": "0H4MIJprDGyQ",
        "outputId": "53d1888d-5e30-4d84-da5e-44abe247a80a"
      },
      "execution_count": 17,
      "outputs": [
        {
          "output_type": "execute_result",
          "data": {
            "text/plain": [
              "6160"
            ]
          },
          "metadata": {},
          "execution_count": 17
        }
      ]
    },
    {
      "cell_type": "code",
      "source": [
        "# DETERMINE TOTAL NUMBER OF NON-VINE MEMBER 5-STAR REVIEWS THAT MADE A PURCHASE\n",
        "NonVine_withPurchase_5Star_totalReviews = NonVine_reviews_with_purchase.filter(non_vine_reviews_df[\"star_rating\"] == 5).count()\n",
        "NonVine_withPurchase_5Star_totalReviews"
      ],
      "metadata": {
        "colab": {
          "base_uri": "https://localhost:8080/"
        },
        "id": "M7ECzIHjDG0u",
        "outputId": "7966ee69-fc61-47dd-fe5d-0050bbe3c95d"
      },
      "execution_count": 18,
      "outputs": [
        {
          "output_type": "execute_result",
          "data": {
            "text/plain": [
              "3665"
            ]
          },
          "metadata": {},
          "execution_count": 18
        }
      ]
    },
    {
      "cell_type": "code",
      "source": [
        "# DETERMINE PERCENTAGE OF NON-MEMBER 5-STAR REVIEWS THAT MADE A PURCHASE\n",
        "NonVine_withPurchase_5Star_Percentage = (NonVine_withPurchase_5Star_totalReviews / NonVine_withPurchase_total_reviews) * 100\n",
        "NonVine_withPurchase_5Star_Percentage"
      ],
      "metadata": {
        "colab": {
          "base_uri": "https://localhost:8080/"
        },
        "id": "3iBkeKcSDG3E",
        "outputId": "114ce3fb-d755-44fd-e3e2-562394f76fc6"
      },
      "execution_count": 19,
      "outputs": [
        {
          "output_type": "execute_result",
          "data": {
            "text/plain": [
              "59.496753246753244"
            ]
          },
          "metadata": {},
          "execution_count": 19
        }
      ]
    }
  ]
}